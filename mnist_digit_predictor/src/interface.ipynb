{
 "cells": [
  {
   "cell_type": "code",
   "execution_count": 3,
   "metadata": {},
   "outputs": [],
   "source": [
    "import numpy as np\n",
    "from matplotlib.backends.backend_tkagg import FigureCanvasTkAgg\n",
    "import matplotlib.pyplot as plt\n",
    "import tkinter as tk\n",
    "\n",
    "def predict_drawn_image(model):\n",
    "    \"\"\"Allow user to draw a number and predict it in a new window.\"\"\"\n",
    "    canvas_data = np.zeros((28, 28))\n",
    "\n",
    "    def on_click(event):\n",
    "        # Draw on the canvas based on mouse clicks\n",
    "        x, y = int(event.x), int(event.y)\n",
    "        canvas_data[max(0, y - 1):min(28, y + 2), max(0, x - 1):min(28, x + 2)] = 1\n",
    "        update_canvas()\n",
    "\n",
    "    def update_canvas():\n",
    "        # Update the figure display\n",
    "        ax.imshow(canvas_data, cmap='gray', interpolation='nearest')\n",
    "        canvas_widget.draw()\n",
    "\n",
    "    def on_close():\n",
    "        # Preprocess the image and predict when the window is closed\n",
    "        input_image = canvas_data.reshape(1, 28, 28, 1).astype('float32') / 255\n",
    "        prediction = np.argmax(model.predict(input_image))\n",
    "        print(f\"Predicted number: {prediction}\")\n",
    "        root.destroy()\n",
    "\n",
    "    # Create the tkinter window\n",
    "    root = tk.Tk()\n",
    "    root.title(\"Draw a Digit\")\n",
    "\n",
    "    # Create a matplotlib figure for drawing\n",
    "    fig, ax = plt.subplots(figsize=(4, 4))\n",
    "    ax.set_xlim(0, 28)\n",
    "    ax.set_ylim(28, 0)\n",
    "    ax.axis('off')\n",
    "    update_canvas()\n",
    "\n",
    "    # Embed the matplotlib figure into tkinter\n",
    "    canvas_widget = FigureCanvasTkAgg(fig, master=root)\n",
    "    canvas_widget.get_tk_widget().pack()\n",
    "\n",
    "    # Bind mouse events\n",
    "    fig.canvas.mpl_connect('button_press_event', on_click)\n",
    "\n",
    "    # Handle window close event\n",
    "    root.protocol(\"WM_DELETE_WINDOW\", on_close)\n",
    "\n",
    "    # Start the tkinter main loop\n",
    "    root.mainloop()\n",
    "\n",
    "# Example usage\n",
    "# Ensure to call this function with a trained model:\n",
    "predict_drawn_image(trained_model)\n"
   ]
  }
 ],
 "metadata": {
  "kernelspec": {
   "display_name": "Python 3",
   "language": "python",
   "name": "python3"
  },
  "language_info": {
   "codemirror_mode": {
    "name": "ipython",
    "version": 3
   },
   "file_extension": ".py",
   "mimetype": "text/x-python",
   "name": "python",
   "nbconvert_exporter": "python",
   "pygments_lexer": "ipython3",
   "version": "3.10.6"
  }
 },
 "nbformat": 4,
 "nbformat_minor": 2
}
