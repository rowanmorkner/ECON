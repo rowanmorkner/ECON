{
 "cells": [
  {
   "cell_type": "code",
   "execution_count": 1,
   "metadata": {},
   "outputs": [
    {
     "ename": "ModuleNotFoundError",
     "evalue": "No module named 'train'",
     "output_type": "error",
     "traceback": [
      "\u001b[0;31m---------------------------------------------------------------------------\u001b[0m",
      "\u001b[0;31mModuleNotFoundError\u001b[0m                       Traceback (most recent call last)",
      "\u001b[1;32m/Users/rowanmorkner/Documents/school/f24/MONEY/machineLearning/mnist_digit_predictor/src/run.ipynb Cell 1\u001b[0m line \u001b[0;36m2\n\u001b[1;32m      <a href='vscode-notebook-cell:/Users/rowanmorkner/Documents/school/f24/MONEY/machineLearning/mnist_digit_predictor/src/run.ipynb#W0sZmlsZQ%3D%3D?line=0'>1</a>\u001b[0m \u001b[39mfrom\u001b[39;00m \u001b[39mtensorflow\u001b[39;00m\u001b[39m.\u001b[39;00m\u001b[39mkeras\u001b[39;00m\u001b[39m.\u001b[39;00m\u001b[39mmodels\u001b[39;00m \u001b[39mimport\u001b[39;00m load_model\n\u001b[0;32m----> <a href='vscode-notebook-cell:/Users/rowanmorkner/Documents/school/f24/MONEY/machineLearning/mnist_digit_predictor/src/run.ipynb#W0sZmlsZQ%3D%3D?line=1'>2</a>\u001b[0m \u001b[39mfrom\u001b[39;00m \u001b[39mtrain\u001b[39;00m \u001b[39mimport\u001b[39;00m train_and_save_model  \u001b[39m# Assume train.ipynb logic is refactored into train.py\u001b[39;00m\n\u001b[1;32m      <a href='vscode-notebook-cell:/Users/rowanmorkner/Documents/school/f24/MONEY/machineLearning/mnist_digit_predictor/src/run.ipynb#W0sZmlsZQ%3D%3D?line=2'>3</a>\u001b[0m \u001b[39mfrom\u001b[39;00m \u001b[39mdrawing_interface\u001b[39;00m \u001b[39mimport\u001b[39;00m predict_drawn_image\n\u001b[1;32m      <a href='vscode-notebook-cell:/Users/rowanmorkner/Documents/school/f24/MONEY/machineLearning/mnist_digit_predictor/src/run.ipynb#W0sZmlsZQ%3D%3D?line=4'>5</a>\u001b[0m \u001b[39m# Train and save the model\u001b[39;00m\n",
      "\u001b[0;31mModuleNotFoundError\u001b[0m: No module named 'train'"
     ]
    }
   ],
   "source": [
    "from tensorflow.keras.models import load_model\n",
    "from train import train_and_save_model  # Assume train.ipynb logic is refactored into train.py\n",
    "from drawing_interface import predict_drawn_image\n",
    "\n",
    "# Train and save the model\n",
    "train_and_save_model()  # Ensure your training logic is in a callable function\n",
    "\n",
    "# Load the trained model\n",
    "model = load_model(\"../models/mnist_model.h5\")\n",
    "\n",
    "# Start the prediction interface\n",
    "predict_drawn_image(model)\n"
   ]
  }
 ],
 "metadata": {
  "kernelspec": {
   "display_name": "Python 3",
   "language": "python",
   "name": "python3"
  },
  "language_info": {
   "codemirror_mode": {
    "name": "ipython",
    "version": 3
   },
   "file_extension": ".py",
   "mimetype": "text/x-python",
   "name": "python",
   "nbconvert_exporter": "python",
   "pygments_lexer": "ipython3",
   "version": "3.10.6"
  }
 },
 "nbformat": 4,
 "nbformat_minor": 2
}
